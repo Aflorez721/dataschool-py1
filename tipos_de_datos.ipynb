{
  "nbformat": 4,
  "nbformat_minor": 0,
  "metadata": {
    "colab": {
      "name": "tipos_de_datos.ipynb",
      "provenance": []
    },
    "kernelspec": {
      "name": "python3",
      "display_name": "Python 3"
    }
  },
  "cells": [
    {
      "cell_type": "markdown",
      "metadata": {
        "id": "w4qMIrSBipQC",
        "colab_type": "text"
      },
      "source": [
        "# Tipos de Datos Básicos"
      ]
    },
    {
      "cell_type": "markdown",
      "metadata": {
        "id": "b79w139Ji0Me",
        "colab_type": "text"
      },
      "source": [
        "## Números\n",
        "\n",
        "- **Enteros**: `20`, `12`, `-5`, `0`, `10920398983497549`\n",
        "- **Coma Flotante**: `3.5`, `-0.7`, `9837948.3284738`, `-19232343.845798`\n",
        "- **Complejos**: `2+3j`, `-1+8j`, `-67j`\n",
        "\n",
        "Pueden ser de cualquier tamaño, no hay límite. Tanto positivos como negativos. E inclusive podemos utilizar **Notación científica**: `2e3`, `10e-8`, `1.23e-5`.\n",
        "\n",
        "Recordemos que la coma decimal se escribe con `.`. Y podemos utilizar el símbolo `_` como separador de miles. Por ejemplo, podemos guardar el valor 123.000 en la variable x con la sentencia:\n",
        "\n",
        "- `x = 123000`\n",
        "\n",
        "o con la sentencia:\n",
        "\n",
        "- `x = 123_000`"
      ]
    },
    {
      "cell_type": "code",
      "metadata": {
        "id": "spR8wfRxiHSD",
        "colab_type": "code",
        "outputId": "e043b3a0-aee0-4664-ef0e-32508241b8af",
        "colab": {
          "base_uri": "https://localhost:8080/",
          "height": 34
        }
      },
      "source": [
        "20"
      ],
      "execution_count": 0,
      "outputs": [
        {
          "output_type": "execute_result",
          "data": {
            "text/plain": [
              "20"
            ]
          },
          "metadata": {
            "tags": []
          },
          "execution_count": 1
        }
      ]
    },
    {
      "cell_type": "code",
      "metadata": {
        "id": "8nVsc2p1kDIh",
        "colab_type": "code",
        "outputId": "de82fd18-dfc8-4750-872f-0221a55512f9",
        "colab": {
          "base_uri": "https://localhost:8080/",
          "height": 34
        }
      },
      "source": [
        "9837948.3284738"
      ],
      "execution_count": 0,
      "outputs": [
        {
          "output_type": "execute_result",
          "data": {
            "text/plain": [
              "9837948.3284738"
            ]
          },
          "metadata": {
            "tags": []
          },
          "execution_count": 2
        }
      ]
    },
    {
      "cell_type": "code",
      "metadata": {
        "id": "KSc1haJfkSjZ",
        "colab_type": "code",
        "outputId": "004e67cf-27b0-4ad4-d8d6-dbaf409b4fca",
        "colab": {
          "base_uri": "https://localhost:8080/",
          "height": 34
        }
      },
      "source": [
        "-67j"
      ],
      "execution_count": 0,
      "outputs": [
        {
          "output_type": "execute_result",
          "data": {
            "text/plain": [
              "(-0-67j)"
            ]
          },
          "metadata": {
            "tags": []
          },
          "execution_count": 3
        }
      ]
    },
    {
      "cell_type": "code",
      "metadata": {
        "id": "O1j_wG9RkWdP",
        "colab_type": "code",
        "outputId": "f55e2e8e-bc43-48e4-8b87-050584996e0e",
        "colab": {
          "base_uri": "https://localhost:8080/",
          "height": 34
        }
      },
      "source": [
        "2e3"
      ],
      "execution_count": 0,
      "outputs": [
        {
          "output_type": "execute_result",
          "data": {
            "text/plain": [
              "2000.0"
            ]
          },
          "metadata": {
            "tags": []
          },
          "execution_count": 4
        }
      ]
    },
    {
      "cell_type": "markdown",
      "metadata": {
        "id": "MgLCrX3wkaAq",
        "colab_type": "text"
      },
      "source": [
        "Podemos usar la función `type()` para que nos diga qué tipo de dato es el que estamos usando. Según el tipo de dato que tengamos la función nos dirá:\n",
        "- `int` para los números enteros (del inglés \"integer\")\n",
        "- `float` para los números en coma flotante (del inglés \"floating point\")\n",
        "- `complex` para los números complejos"
      ]
    },
    {
      "cell_type": "code",
      "metadata": {
        "id": "O-Pa-ZwqkjUp",
        "colab_type": "code",
        "outputId": "a5248c0b-7b57-48e6-c66c-33dd96f616bb",
        "colab": {
          "base_uri": "https://localhost:8080/",
          "height": 34
        }
      },
      "source": [
        "type(20)"
      ],
      "execution_count": 0,
      "outputs": [
        {
          "output_type": "execute_result",
          "data": {
            "text/plain": [
              "int"
            ]
          },
          "metadata": {
            "tags": []
          },
          "execution_count": 5
        }
      ]
    },
    {
      "cell_type": "code",
      "metadata": {
        "id": "bLSZ0a-0khIm",
        "colab_type": "code",
        "outputId": "50b3991c-00f5-43cb-f934-48a0076ed7f5",
        "colab": {
          "base_uri": "https://localhost:8080/",
          "height": 34
        }
      },
      "source": [
        "type(9837948.3284738)"
      ],
      "execution_count": 0,
      "outputs": [
        {
          "output_type": "execute_result",
          "data": {
            "text/plain": [
              "float"
            ]
          },
          "metadata": {
            "tags": []
          },
          "execution_count": 6
        }
      ]
    },
    {
      "cell_type": "code",
      "metadata": {
        "id": "yn8gM43Bkr3i",
        "colab_type": "code",
        "outputId": "cff01b31-64b6-4d31-c612-0d7e29ee2a2f",
        "colab": {
          "base_uri": "https://localhost:8080/",
          "height": 34
        }
      },
      "source": [
        "type(-67j)"
      ],
      "execution_count": 0,
      "outputs": [
        {
          "output_type": "execute_result",
          "data": {
            "text/plain": [
              "complex"
            ]
          },
          "metadata": {
            "tags": []
          },
          "execution_count": 7
        }
      ]
    },
    {
      "cell_type": "code",
      "metadata": {
        "id": "O4tEZwiplKyQ",
        "colab_type": "code",
        "outputId": "5bae9855-094b-4c90-e466-7a54571f2e12",
        "colab": {
          "base_uri": "https://localhost:8080/",
          "height": 34
        }
      },
      "source": [
        "type(2e3)"
      ],
      "execution_count": 0,
      "outputs": [
        {
          "output_type": "execute_result",
          "data": {
            "text/plain": [
              "float"
            ]
          },
          "metadata": {
            "tags": []
          },
          "execution_count": 8
        }
      ]
    },
    {
      "cell_type": "markdown",
      "metadata": {
        "id": "BrkxgpTGlrPI",
        "colab_type": "text"
      },
      "source": [
        "Jugá un poco con los números y la función `type()`. Definí una variable `numero` y cambiale su valor para representar diferentes tipos. Usá `type(numero)` para ver si obtenés los tipos de números que estás queriendo:"
      ]
    },
    {
      "cell_type": "code",
      "metadata": {
        "id": "oiRSq5uSlxT_",
        "colab_type": "code",
        "colab": {}
      },
      "source": [
        ""
      ],
      "execution_count": 0,
      "outputs": []
    },
    {
      "cell_type": "markdown",
      "metadata": {
        "id": "BJ8fQ5sFnrei",
        "colab_type": "text"
      },
      "source": [
        "## Operadores aritméticos\n",
        "\n",
        "- Suma: `+`\n",
        "- Resta: `-`\n",
        "- Multiplicación: `*`\n",
        "- División: `/`\n",
        "- Módulo: `%`\n",
        "- División Entera: `//`\n",
        "- Potenciación: `**`"
      ]
    },
    {
      "cell_type": "code",
      "metadata": {
        "id": "KOrhYULIoOyj",
        "colab_type": "code",
        "outputId": "d70dffc4-b8d0-4e94-c065-18978f5be0ed",
        "colab": {
          "base_uri": "https://localhost:8080/",
          "height": 34
        }
      },
      "source": [
        "a = 5\n",
        "a + 2"
      ],
      "execution_count": 0,
      "outputs": [
        {
          "output_type": "execute_result",
          "data": {
            "text/plain": [
              "7"
            ]
          },
          "metadata": {
            "tags": []
          },
          "execution_count": 11
        }
      ]
    },
    {
      "cell_type": "code",
      "metadata": {
        "id": "8Aai_shYoiRV",
        "colab_type": "code",
        "outputId": "147f6bcc-cba9-4847-e3e3-07b1f039719c",
        "colab": {
          "base_uri": "https://localhost:8080/",
          "height": 34
        }
      },
      "source": [
        "a * 2"
      ],
      "execution_count": 0,
      "outputs": [
        {
          "output_type": "execute_result",
          "data": {
            "text/plain": [
              "10"
            ]
          },
          "metadata": {
            "tags": []
          },
          "execution_count": 12
        }
      ]
    },
    {
      "cell_type": "code",
      "metadata": {
        "id": "mb_zD6nColGt",
        "colab_type": "code",
        "outputId": "2a5941ce-2e45-44ad-b550-a6c209d0cb05",
        "colab": {
          "base_uri": "https://localhost:8080/",
          "height": 34
        }
      },
      "source": [
        "a ** 2"
      ],
      "execution_count": 0,
      "outputs": [
        {
          "output_type": "execute_result",
          "data": {
            "text/plain": [
              "25"
            ]
          },
          "metadata": {
            "tags": []
          },
          "execution_count": 13
        }
      ]
    },
    {
      "cell_type": "code",
      "metadata": {
        "id": "Azxzazr4ooVx",
        "colab_type": "code",
        "outputId": "4c5862ec-6e6b-4bf7-8356-ab344948daf2",
        "colab": {
          "base_uri": "https://localhost:8080/",
          "height": 34
        }
      },
      "source": [
        "4.5 * 8"
      ],
      "execution_count": 0,
      "outputs": [
        {
          "output_type": "execute_result",
          "data": {
            "text/plain": [
              "36.0"
            ]
          },
          "metadata": {
            "tags": []
          },
          "execution_count": 14
        }
      ]
    },
    {
      "cell_type": "code",
      "metadata": {
        "id": "SGy7RTORotcc",
        "colab_type": "code",
        "outputId": "36f83267-787b-484a-9755-9cdb5f42a2ba",
        "colab": {
          "base_uri": "https://localhost:8080/",
          "height": 34
        }
      },
      "source": [
        "10 / 3"
      ],
      "execution_count": 0,
      "outputs": [
        {
          "output_type": "execute_result",
          "data": {
            "text/plain": [
              "3.3333333333333335"
            ]
          },
          "metadata": {
            "tags": []
          },
          "execution_count": 15
        }
      ]
    },
    {
      "cell_type": "code",
      "metadata": {
        "id": "moOggXu6oxFZ",
        "colab_type": "code",
        "outputId": "dd858eb2-17c7-496e-f31c-2574925bc1e7",
        "colab": {
          "base_uri": "https://localhost:8080/",
          "height": 34
        }
      },
      "source": [
        "10 % 3"
      ],
      "execution_count": 0,
      "outputs": [
        {
          "output_type": "execute_result",
          "data": {
            "text/plain": [
              "1"
            ]
          },
          "metadata": {
            "tags": []
          },
          "execution_count": 16
        }
      ]
    },
    {
      "cell_type": "code",
      "metadata": {
        "id": "_jTpUOAMowWU",
        "colab_type": "code",
        "outputId": "af16756c-943d-4ce7-8511-c1ba8c8b16c0",
        "colab": {
          "base_uri": "https://localhost:8080/",
          "height": 34
        }
      },
      "source": [
        "10 // 3"
      ],
      "execution_count": 0,
      "outputs": [
        {
          "output_type": "execute_result",
          "data": {
            "text/plain": [
              "3"
            ]
          },
          "metadata": {
            "tags": []
          },
          "execution_count": 17
        }
      ]
    },
    {
      "cell_type": "markdown",
      "metadata": {
        "id": "QQQEVWohpLpG",
        "colab_type": "text"
      },
      "source": [
        "Muchos terminamos usando Python como nuestra calculadora personal, te animás?"
      ]
    },
    {
      "cell_type": "code",
      "metadata": {
        "id": "Lc7itMicpR4c",
        "colab_type": "code",
        "colab": {}
      },
      "source": [
        ""
      ],
      "execution_count": 0,
      "outputs": []
    },
    {
      "cell_type": "markdown",
      "metadata": {
        "id": "amtT-wZ1l3_h",
        "colab_type": "text"
      },
      "source": [
        "## Cadenas de Texto\n",
        "\n",
        "Las cadenas de texto en Python se definen entre comillas dobles `\"` o comillas simples `'`. Por eso en la función `print()` pusimos como argumento `\"Hola mundo!\"`, también es válido poner `'Hola mundo!'`."
      ]
    },
    {
      "cell_type": "code",
      "metadata": {
        "id": "hcETRNtlmhJo",
        "colab_type": "code",
        "outputId": "067ae633-b875-4aa6-ab59-5b5cc3227b53",
        "colab": {
          "base_uri": "https://localhost:8080/",
          "height": 34
        }
      },
      "source": [
        "print('Hola mundo')"
      ],
      "execution_count": 0,
      "outputs": [
        {
          "output_type": "stream",
          "text": [
            "Hola mundo\n"
          ],
          "name": "stdout"
        }
      ]
    },
    {
      "cell_type": "code",
      "metadata": {
        "id": "5qPiAg8Up2eC",
        "colab_type": "code",
        "outputId": "14f7ad7e-b202-4080-ea75-cbb36d075aa2",
        "colab": {
          "base_uri": "https://localhost:8080/",
          "height": 34
        }
      },
      "source": [
        "type(\"Hola mundo!\")"
      ],
      "execution_count": 0,
      "outputs": [
        {
          "output_type": "execute_result",
          "data": {
            "text/plain": [
              "str"
            ]
          },
          "metadata": {
            "tags": []
          },
          "execution_count": 18
        }
      ]
    },
    {
      "cell_type": "code",
      "metadata": {
        "id": "9sShxxQwp5-d",
        "colab_type": "code",
        "outputId": "d63707f6-32ae-458e-bab4-3f46b23877f6",
        "colab": {
          "base_uri": "https://localhost:8080/",
          "height": 34
        }
      },
      "source": [
        "type('Hola mundo')"
      ],
      "execution_count": 0,
      "outputs": [
        {
          "output_type": "execute_result",
          "data": {
            "text/plain": [
              "str"
            ]
          },
          "metadata": {
            "tags": []
          },
          "execution_count": 19
        }
      ]
    },
    {
      "cell_type": "markdown",
      "metadata": {
        "id": "m6qAiVrbmjQn",
        "colab_type": "text"
      },
      "source": [
        "Si a `type` le pasamos una cadena de texto nos devuelve `str` (del inglés, *String*).\n",
        "\n",
        "Si queremos poner cadenas de texto multilínea, podemos utilizar triple comilla simple `'''` o triple comilla doble `\"\"\"\"`.\n",
        "Lo que no podemos hacer es mezclar las comillas que usamos. Si empezamos con `\"`, terminamos con `\"`. Lo mismo para `'`."
      ]
    },
    {
      "cell_type": "code",
      "metadata": {
        "id": "sSFIT8zknfPO",
        "colab_type": "code",
        "outputId": "b9e6f25d-fe05-4ccd-83c2-4b7df70a6719",
        "colab": {
          "base_uri": "https://localhost:8080/",
          "height": 34
        }
      },
      "source": [
        "parrafo = \"\"\"En un lugar de la Mancha, de cuyo nombre...\n",
        "Es, pues, de saber que este sobredicho hidalgo, los ratos...\n",
        "\n",
        "\n",
        "Con estas razones perdía el pobre caballero el juicio, y...\n",
        "\"\"\"\n",
        "parrafo.istitle()"
      ],
      "execution_count": 0,
      "outputs": [
        {
          "output_type": "execute_result",
          "data": {
            "text/plain": [
              "False"
            ]
          },
          "metadata": {
            "tags": []
          },
          "execution_count": 3
        }
      ]
    },
    {
      "cell_type": "code",
      "metadata": {
        "id": "eshm_bqmTDCa",
        "colab_type": "code",
        "outputId": "9890df4a-e56c-4e85-e77a-4994c94b8273",
        "colab": {
          "base_uri": "https://localhost:8080/",
          "height": 34
        }
      },
      "source": [
        "titulo = \"Don Quijote\"\n",
        "titulo.istitle()"
      ],
      "execution_count": 0,
      "outputs": [
        {
          "output_type": "execute_result",
          "data": {
            "text/plain": [
              "True"
            ]
          },
          "metadata": {
            "tags": []
          },
          "execution_count": 1
        }
      ]
    },
    {
      "cell_type": "markdown",
      "metadata": {
        "id": "Ee7QL1_hnjs1",
        "colab_type": "text"
      },
      "source": [
        "Ahora es tu turno...\n"
      ]
    },
    {
      "cell_type": "code",
      "metadata": {
        "id": "0jFNJ0R5nigi",
        "colab_type": "code",
        "colab": {}
      },
      "source": [
        ""
      ],
      "execution_count": 0,
      "outputs": []
    },
    {
      "cell_type": "markdown",
      "metadata": {
        "id": "UXnTS-L8pvan",
        "colab_type": "text"
      },
      "source": [
        "Otra de las funciones que viene con Python, además de `print` y `type` que ya las hemos visto, es la función `len` que devuelve la longitud del objeto que le pasemos como argumento. En el caso de las cadenas de texto nos devolverá la longitud de la cadena, es decir, la cantidad de caracteres de la misma.\n",
        "        "
      ]
    },
    {
      "cell_type": "code",
      "metadata": {
        "id": "iDBfmNNtu_XU",
        "colab_type": "code",
        "outputId": "d0f4ccc0-08de-4465-dc0d-3819fbbe83f9",
        "colab": {
          "base_uri": "https://localhost:8080/",
          "height": 34
        }
      },
      "source": [
        "len(titulo)"
      ],
      "execution_count": 0,
      "outputs": [
        {
          "output_type": "execute_result",
          "data": {
            "text/plain": [
              "11"
            ]
          },
          "metadata": {
            "tags": []
          },
          "execution_count": 1
        }
      ]
    },
    {
      "cell_type": "code",
      "metadata": {
        "id": "XafXDoQkvD7l",
        "colab_type": "code",
        "outputId": "be5223f4-9516-44ec-ec85-a2ab4cc15f81",
        "colab": {
          "base_uri": "https://localhost:8080/",
          "height": 34
        }
      },
      "source": [
        "len(parrafo)"
      ],
      "execution_count": 0,
      "outputs": [
        {
          "output_type": "execute_result",
          "data": {
            "text/plain": [
              "167"
            ]
          },
          "metadata": {
            "tags": []
          },
          "execution_count": 4
        }
      ]
    },
    {
      "cell_type": "markdown",
      "metadata": {
        "id": "_WV1cf5VvJH2",
        "colab_type": "text"
      },
      "source": [
        "Escribí tu nombre en una variable y hacé que Python calcule la longitud del mismo:"
      ]
    },
    {
      "cell_type": "code",
      "metadata": {
        "id": "L5m_ClHCvPcV",
        "colab_type": "code",
        "colab": {}
      },
      "source": [
        ""
      ],
      "execution_count": 0,
      "outputs": []
    },
    {
      "cell_type": "markdown",
      "metadata": {
        "id": "Ok1iTFllpxtD",
        "colab_type": "text"
      },
      "source": [
        "### Métodos en cadenas\n",
        "\n",
        "Las cadenas de texto admiten varios métodos que se pueden llamar con un punto a continuación de la cadena. Por ejemplo: el método `upper()` devuelve en mayúsculas el texto."
      ]
    },
    {
      "cell_type": "code",
      "metadata": {
        "id": "3F1-SN6sqgVP",
        "colab_type": "code",
        "outputId": "6371c815-381b-4a18-afb0-bdc074f3e337",
        "colab": {
          "base_uri": "https://localhost:8080/",
          "height": 34
        }
      },
      "source": [
        "\"En un lugar de la Mancha, de cuyo nombre...\".upper()"
      ],
      "execution_count": 0,
      "outputs": [
        {
          "output_type": "execute_result",
          "data": {
            "text/plain": [
              "'EN UN LUGAR DE LA MANCHA, DE CUYO NOMBRE...'"
            ]
          },
          "metadata": {
            "tags": []
          },
          "execution_count": 20
        }
      ]
    },
    {
      "cell_type": "code",
      "metadata": {
        "id": "vmMJSvHSqsMj",
        "colab_type": "code",
        "outputId": "c719d708-26ed-469f-b126-e2bec5eb42ec",
        "colab": {
          "base_uri": "https://localhost:8080/",
          "height": 34
        }
      },
      "source": [
        "x = \"En un lugar de la Mancha, de cuyo nombre...\"\n",
        "x.upper()"
      ],
      "execution_count": 0,
      "outputs": [
        {
          "output_type": "execute_result",
          "data": {
            "text/plain": [
              "'EN UN LUGAR DE LA MANCHA, DE CUYO NOMBRE...'"
            ]
          },
          "metadata": {
            "tags": []
          },
          "execution_count": 3
        }
      ]
    },
    {
      "cell_type": "code",
      "metadata": {
        "id": "iqDG0MxKRq7S",
        "colab_type": "code",
        "outputId": "97ba1ed5-ce5c-4500-fbad-3223489a7ba7",
        "colab": {
          "base_uri": "https://localhost:8080/",
          "height": 34
        }
      },
      "source": [
        "x.isdigit()"
      ],
      "execution_count": 0,
      "outputs": [
        {
          "output_type": "execute_result",
          "data": {
            "text/plain": [
              "False"
            ]
          },
          "metadata": {
            "tags": []
          },
          "execution_count": 6
        }
      ]
    },
    {
      "cell_type": "code",
      "metadata": {
        "id": "3QUVIaNMRv0Y",
        "colab_type": "code",
        "outputId": "1bb89755-750a-4539-e56e-eec339c39544",
        "colab": {
          "base_uri": "https://localhost:8080/",
          "height": 34
        }
      },
      "source": [
        "x.split(',')"
      ],
      "execution_count": 0,
      "outputs": [
        {
          "output_type": "execute_result",
          "data": {
            "text/plain": [
              "['En un lugar de la Mancha', ' de cuyo nombre...']"
            ]
          },
          "metadata": {
            "tags": []
          },
          "execution_count": 7
        }
      ]
    },
    {
      "cell_type": "markdown",
      "metadata": {
        "id": "x_wnNkl1qyJ6",
        "colab_type": "text"
      },
      "source": [
        "Ya sea que lo ejecutemos sobre la misma cadena o si la tenemos guardada en una variable, los métodos de cadenas se pueden ejecutar indistintamente.\n",
        "\n",
        "Si queremos ver qué métodos tenemos disponibles, podemos usar la funcón `dir` sobre una cadena."
      ]
    },
    {
      "cell_type": "code",
      "metadata": {
        "id": "H_njc_XlrH51",
        "colab_type": "code",
        "outputId": "685714e7-9675-423f-8fef-27edfb6ae5c7",
        "colab": {
          "base_uri": "https://localhost:8080/",
          "height": 1000
        }
      },
      "source": [
        "dir(x)"
      ],
      "execution_count": 0,
      "outputs": [
        {
          "output_type": "execute_result",
          "data": {
            "text/plain": [
              "['__add__',\n",
              " '__class__',\n",
              " '__contains__',\n",
              " '__delattr__',\n",
              " '__dir__',\n",
              " '__doc__',\n",
              " '__eq__',\n",
              " '__format__',\n",
              " '__ge__',\n",
              " '__getattribute__',\n",
              " '__getitem__',\n",
              " '__getnewargs__',\n",
              " '__gt__',\n",
              " '__hash__',\n",
              " '__init__',\n",
              " '__init_subclass__',\n",
              " '__iter__',\n",
              " '__le__',\n",
              " '__len__',\n",
              " '__lt__',\n",
              " '__mod__',\n",
              " '__mul__',\n",
              " '__ne__',\n",
              " '__new__',\n",
              " '__reduce__',\n",
              " '__reduce_ex__',\n",
              " '__repr__',\n",
              " '__rmod__',\n",
              " '__rmul__',\n",
              " '__setattr__',\n",
              " '__sizeof__',\n",
              " '__str__',\n",
              " '__subclasshook__',\n",
              " 'capitalize',\n",
              " 'casefold',\n",
              " 'center',\n",
              " 'count',\n",
              " 'encode',\n",
              " 'endswith',\n",
              " 'expandtabs',\n",
              " 'find',\n",
              " 'format',\n",
              " 'format_map',\n",
              " 'index',\n",
              " 'isalnum',\n",
              " 'isalpha',\n",
              " 'isdecimal',\n",
              " 'isdigit',\n",
              " 'isidentifier',\n",
              " 'islower',\n",
              " 'isnumeric',\n",
              " 'isprintable',\n",
              " 'isspace',\n",
              " 'istitle',\n",
              " 'isupper',\n",
              " 'join',\n",
              " 'ljust',\n",
              " 'lower',\n",
              " 'lstrip',\n",
              " 'maketrans',\n",
              " 'partition',\n",
              " 'replace',\n",
              " 'rfind',\n",
              " 'rindex',\n",
              " 'rjust',\n",
              " 'rpartition',\n",
              " 'rsplit',\n",
              " 'rstrip',\n",
              " 'split',\n",
              " 'splitlines',\n",
              " 'startswith',\n",
              " 'strip',\n",
              " 'swapcase',\n",
              " 'title',\n",
              " 'translate',\n",
              " 'upper',\n",
              " 'zfill']"
            ]
          },
          "metadata": {
            "tags": []
          },
          "execution_count": 22
        }
      ]
    },
    {
      "cell_type": "markdown",
      "metadata": {
        "id": "gD5U8hRwrNDr",
        "colab_type": "text"
      },
      "source": [
        "Intentá descifrar qué hace cada método sobre la cadena que tenemos almacenada en `x`:"
      ]
    },
    {
      "cell_type": "code",
      "metadata": {
        "id": "l3Y9BteDrVXw",
        "colab_type": "code",
        "outputId": "b5d3eddc-aa33-4be1-f00d-68e90f7844f2",
        "colab": {
          "base_uri": "https://localhost:8080/",
          "height": 34
        }
      },
      "source": [
        "x.lower()"
      ],
      "execution_count": 0,
      "outputs": [
        {
          "output_type": "execute_result",
          "data": {
            "text/plain": [
              "'en un lugar de la mancha, de cuyo nombre...'"
            ]
          },
          "metadata": {
            "tags": []
          },
          "execution_count": 24
        }
      ]
    },
    {
      "cell_type": "markdown",
      "metadata": {
        "id": "m2J1Jwp6JvtB",
        "colab_type": "text"
      },
      "source": [
        "Para no andar jugando a los detectives Python nos ofrece además la función `help` que nos informa con una breve ayuda sobre el método que queremos saber:\n",
        "\n",
        "> Fijate que luego de `lower` no ponemos los `()`. Ya que si ponemos los paréntesis Python primero ejecutará el método `lower()` sobre la variable `x` y eso es un `str`."
      ]
    },
    {
      "cell_type": "code",
      "metadata": {
        "id": "vWrAybkYJvO2",
        "colab_type": "code",
        "outputId": "e8b884c2-1ca4-4588-cdec-b5e31af361c1",
        "colab": {
          "base_uri": "https://localhost:8080/",
          "height": 139
        }
      },
      "source": [
        "help(x.lower)"
      ],
      "execution_count": 0,
      "outputs": [
        {
          "output_type": "stream",
          "text": [
            "Help on built-in function lower:\n",
            "\n",
            "lower(...) method of builtins.str instance\n",
            "    S.lower() -> str\n",
            "    \n",
            "    Return a copy of the string S converted to lowercase.\n",
            "\n"
          ],
          "name": "stdout"
        }
      ]
    },
    {
      "cell_type": "markdown",
      "metadata": {
        "id": "VfP8WtChpXOW",
        "colab_type": "text"
      },
      "source": [
        "### Formateando cadenas de texto\n",
        "\n",
        "Si bien hay varias formas de darle formato a las cadenas de texto, lo más práctico es usar las `f-string`. Anteponemos una letra `f` al comienzo de la cadena y luego dentro de la misma utilizamos las `{}` para poner el valor o la expresión que queremos usar.\n",
        "\n",
        "Guardemos 2 números en las variables `numero1` y `numero2`, realicemos la suma y usemos una `f-string` para mostrar los 3 valores:"
      ]
    },
    {
      "cell_type": "code",
      "metadata": {
        "id": "7Yu0Trm8sTdL",
        "colab_type": "code",
        "outputId": "7d81c509-a62f-4f0e-cb87-37b7221fc040",
        "colab": {
          "base_uri": "https://localhost:8080/",
          "height": 34
        }
      },
      "source": [
        "numero1 = 18\n",
        "numero2 = 34\n",
        "resultado = numero1 + numero2\n",
        "print(f\"El resultado de la suma entre {numero1} y {numero2} da como resultado {resultado}\")"
      ],
      "execution_count": 0,
      "outputs": [
        {
          "output_type": "stream",
          "text": [
            "El resultado de la suma entre 18 y 34 da como resultado 52\n"
          ],
          "name": "stdout"
        }
      ]
    },
    {
      "cell_type": "markdown",
      "metadata": {
        "id": "XY1tQtumsnOb",
        "colab_type": "text"
      },
      "source": [
        "Este es TU momento..."
      ]
    },
    {
      "cell_type": "code",
      "metadata": {
        "id": "QXpTQ7IrsqNu",
        "colab_type": "code",
        "colab": {}
      },
      "source": [
        ""
      ],
      "execution_count": 0,
      "outputs": []
    },
    {
      "cell_type": "markdown",
      "metadata": {
        "id": "4MQMXEX9stxY",
        "colab_type": "text"
      },
      "source": [
        "## Ingreso de datos\n",
        "\n",
        "La función `input()` nos sirve para aceptar el ingreso de valores por teclado. Dentro de los paréntesis podemos escribir una cadena de texto para que el usuario visualice. La función devuelve el valor ingresado antes de presionar ENTER."
      ]
    },
    {
      "cell_type": "code",
      "metadata": {
        "id": "5No-i3VhtC_F",
        "colab_type": "code",
        "outputId": "093128b0-2cb8-4653-ed60-1d83939c0db0",
        "colab": {
          "base_uri": "https://localhost:8080/",
          "height": 34
        }
      },
      "source": [
        "x = input('Ingrese un número: ')"
      ],
      "execution_count": 0,
      "outputs": [
        {
          "output_type": "stream",
          "text": [
            "Ingrese un número: 10\n"
          ],
          "name": "stdout"
        }
      ]
    },
    {
      "cell_type": "code",
      "metadata": {
        "id": "T47D57EEtIND",
        "colab_type": "code",
        "outputId": "077d4afd-9dd5-4662-8763-7fa396ece83b",
        "colab": {
          "base_uri": "https://localhost:8080/",
          "height": 34
        }
      },
      "source": [
        "x"
      ],
      "execution_count": 0,
      "outputs": [
        {
          "output_type": "execute_result",
          "data": {
            "text/plain": [
              "'10'"
            ]
          },
          "metadata": {
            "tags": []
          },
          "execution_count": 28
        }
      ]
    },
    {
      "cell_type": "code",
      "metadata": {
        "id": "cu23IXGLtJ1K",
        "colab_type": "code",
        "outputId": "bb6ca90d-e307-472e-b0de-2e1e85e2e6c3",
        "colab": {
          "base_uri": "https://localhost:8080/",
          "height": 34
        }
      },
      "source": [
        "type(x)"
      ],
      "execution_count": 0,
      "outputs": [
        {
          "output_type": "execute_result",
          "data": {
            "text/plain": [
              "str"
            ]
          },
          "metadata": {
            "tags": []
          },
          "execution_count": 29
        }
      ]
    },
    {
      "cell_type": "markdown",
      "metadata": {
        "id": "sXERgC8WtLvw",
        "colab_type": "text"
      },
      "source": [
        "La función `input` SIEMPRE nos va a devolver una cadena de texto. Si queremos que ese valor sea un número, tenemos que convertirlo con `int()`, `float()` o `complex()` según sea nuestra intención."
      ]
    },
    {
      "cell_type": "code",
      "metadata": {
        "id": "zzBxiAuYtciv",
        "colab_type": "code",
        "outputId": "4e5f8a4a-2339-46af-e6e0-fc0c1e1cec5f",
        "colab": {
          "base_uri": "https://localhost:8080/",
          "height": 34
        }
      },
      "source": [
        "int(x)"
      ],
      "execution_count": 0,
      "outputs": [
        {
          "output_type": "execute_result",
          "data": {
            "text/plain": [
              "10"
            ]
          },
          "metadata": {
            "tags": []
          },
          "execution_count": 30
        }
      ]
    },
    {
      "cell_type": "code",
      "metadata": {
        "id": "B75iIiiRtfNq",
        "colab_type": "code",
        "outputId": "2a2791a6-544b-4b19-914f-e7474514cf71",
        "colab": {
          "base_uri": "https://localhost:8080/",
          "height": 34
        }
      },
      "source": [
        "float(x)"
      ],
      "execution_count": 0,
      "outputs": [
        {
          "output_type": "execute_result",
          "data": {
            "text/plain": [
              "10.0"
            ]
          },
          "metadata": {
            "tags": []
          },
          "execution_count": 31
        }
      ]
    },
    {
      "cell_type": "code",
      "metadata": {
        "id": "zX_pJEsOthwD",
        "colab_type": "code",
        "outputId": "f68125ae-082b-47ad-a6e7-c79fbe225b24",
        "colab": {
          "base_uri": "https://localhost:8080/",
          "height": 34
        }
      },
      "source": [
        "complex(x)"
      ],
      "execution_count": 0,
      "outputs": [
        {
          "output_type": "execute_result",
          "data": {
            "text/plain": [
              "(10+0j)"
            ]
          },
          "metadata": {
            "tags": []
          },
          "execution_count": 32
        }
      ]
    },
    {
      "cell_type": "code",
      "metadata": {
        "id": "A0CTr71otqTD",
        "colab_type": "code",
        "outputId": "07a58ad8-1d8e-4338-dc1a-02f09ddbf023",
        "colab": {
          "base_uri": "https://localhost:8080/",
          "height": 34
        }
      },
      "source": [
        "x"
      ],
      "execution_count": 0,
      "outputs": [
        {
          "output_type": "execute_result",
          "data": {
            "text/plain": [
              "'10'"
            ]
          },
          "metadata": {
            "tags": []
          },
          "execution_count": 33
        }
      ]
    },
    {
      "cell_type": "markdown",
      "metadata": {
        "id": "UJwQd92ytkWQ",
        "colab_type": "text"
      },
      "source": [
        "Notemos que acá nunca volvemos a guardar el valor de `x`, lo que se suele hacer es directamente llamar a la función que queremos y luego llamar dentro a `input()`.\n",
        "\n",
        "Por ejemplo, si quisieramos tener en `x` un entero:"
      ]
    },
    {
      "cell_type": "code",
      "metadata": {
        "id": "gxLB-GV0t3bX",
        "colab_type": "code",
        "outputId": "4c173149-8976-49fd-eb4d-14be533a3957",
        "colab": {
          "base_uri": "https://localhost:8080/",
          "height": 34
        }
      },
      "source": [
        "x = int(input(\"Ingrese un número: \"))"
      ],
      "execution_count": 0,
      "outputs": [
        {
          "output_type": "stream",
          "text": [
            "Ingrese un número: 10\n"
          ],
          "name": "stdout"
        }
      ]
    },
    {
      "cell_type": "code",
      "metadata": {
        "id": "J-LlFb1ut-DM",
        "colab_type": "code",
        "outputId": "6021a50e-7bfa-43dc-c998-460423310143",
        "colab": {
          "base_uri": "https://localhost:8080/",
          "height": 34
        }
      },
      "source": [
        "x"
      ],
      "execution_count": 0,
      "outputs": [
        {
          "output_type": "execute_result",
          "data": {
            "text/plain": [
              "10"
            ]
          },
          "metadata": {
            "tags": []
          },
          "execution_count": 35
        }
      ]
    },
    {
      "cell_type": "code",
      "metadata": {
        "id": "0EhRXjZrt9U-",
        "colab_type": "code",
        "outputId": "ecc873d0-194b-4152-9b44-8d302ef5a2b8",
        "colab": {
          "base_uri": "https://localhost:8080/",
          "height": 34
        }
      },
      "source": [
        "type(x)"
      ],
      "execution_count": 0,
      "outputs": [
        {
          "output_type": "execute_result",
          "data": {
            "text/plain": [
              "int"
            ]
          },
          "metadata": {
            "tags": []
          },
          "execution_count": 36
        }
      ]
    },
    {
      "cell_type": "code",
      "metadata": {
        "id": "NyGy_nSKTYJ3",
        "colab_type": "code",
        "outputId": "ea411c54-1639-4688-f48c-64d0590b8d1c",
        "colab": {
          "base_uri": "https://localhost:8080/",
          "height": 52
        }
      },
      "source": [
        "input(\"Ingrese su nombre: \")"
      ],
      "execution_count": 0,
      "outputs": [
        {
          "output_type": "stream",
          "text": [
            "Ingrese su nombre: Leandro\n"
          ],
          "name": "stdout"
        },
        {
          "output_type": "execute_result",
          "data": {
            "text/plain": [
              "'Leandro'"
            ]
          },
          "metadata": {
            "tags": []
          },
          "execution_count": 11
        }
      ]
    },
    {
      "cell_type": "code",
      "metadata": {
        "id": "sRrSlZACTpVm",
        "colab_type": "code",
        "outputId": "f40956ff-52a0-4949-d410-dd22e3511fdf",
        "colab": {
          "base_uri": "https://localhost:8080/",
          "height": 34
        }
      },
      "source": [
        "name = input(\"Ingrese su nombre: \")"
      ],
      "execution_count": 0,
      "outputs": [
        {
          "output_type": "stream",
          "text": [
            "Ingrese su nombre: Leo\n"
          ],
          "name": "stdout"
        }
      ]
    },
    {
      "cell_type": "code",
      "metadata": {
        "id": "6ILEo_AsTwlE",
        "colab_type": "code",
        "outputId": "fe3805fd-e1b0-46ba-ca6a-9d7d5d662267",
        "colab": {
          "base_uri": "https://localhost:8080/",
          "height": 34
        }
      },
      "source": [
        "name"
      ],
      "execution_count": 0,
      "outputs": [
        {
          "output_type": "execute_result",
          "data": {
            "text/plain": [
              "'Leo'"
            ]
          },
          "metadata": {
            "tags": []
          },
          "execution_count": 13
        }
      ]
    },
    {
      "cell_type": "markdown",
      "metadata": {
        "id": "OSWZVQGzuCkF",
        "colab_type": "text"
      },
      "source": [
        "Si ingresamos un valor que la función no puede convertir, nos tirará un error."
      ]
    },
    {
      "cell_type": "code",
      "metadata": {
        "id": "TCwq95kIuGjJ",
        "colab_type": "code",
        "outputId": "632d0262-0963-4be1-c6f4-bfc05470cf12",
        "colab": {
          "base_uri": "https://localhost:8080/",
          "height": 185
        }
      },
      "source": [
        "x = int(input(\"Ingrese un número: \"))"
      ],
      "execution_count": 0,
      "outputs": [
        {
          "output_type": "stream",
          "text": [
            "Ingrese un número: diez\n"
          ],
          "name": "stdout"
        },
        {
          "output_type": "error",
          "ename": "ValueError",
          "evalue": "ignored",
          "traceback": [
            "\u001b[0;31m---------------------------------------------------------------------------\u001b[0m",
            "\u001b[0;31mValueError\u001b[0m                                Traceback (most recent call last)",
            "\u001b[0;32m<ipython-input-37-f2a3773c152f>\u001b[0m in \u001b[0;36m<module>\u001b[0;34m()\u001b[0m\n\u001b[0;32m----> 1\u001b[0;31m \u001b[0mx\u001b[0m \u001b[0;34m=\u001b[0m \u001b[0mint\u001b[0m\u001b[0;34m(\u001b[0m\u001b[0minput\u001b[0m\u001b[0;34m(\u001b[0m\u001b[0;34m\"Ingrese un número: \"\u001b[0m\u001b[0;34m)\u001b[0m\u001b[0;34m)\u001b[0m\u001b[0;34m\u001b[0m\u001b[0;34m\u001b[0m\u001b[0m\n\u001b[0m",
            "\u001b[0;31mValueError\u001b[0m: invalid literal for int() with base 10: 'diez'"
          ]
        }
      ]
    },
    {
      "cell_type": "markdown",
      "metadata": {
        "id": "yOn1-lk9vLA5",
        "colab_type": "text"
      },
      "source": [
        "### Ejercicio:\n",
        "\n",
        "Pedile al usuario su nombre, guardalo en una variable y luego imprimí un mensaje que salude al usuario:"
      ]
    },
    {
      "cell_type": "code",
      "metadata": {
        "id": "XJisSBTOvX4-",
        "colab_type": "code",
        "colab": {}
      },
      "source": [
        "2"
      ],
      "execution_count": 0,
      "outputs": []
    }
  ]
}