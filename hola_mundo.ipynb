{
  "nbformat": 4,
  "nbformat_minor": 0,
  "metadata": {
    "colab": {
      "name": "hola_mundo.ipynb",
      "provenance": []
    },
    "kernelspec": {
      "name": "python3",
      "display_name": "Python 3"
    }
  },
  "cells": [
    {
      "cell_type": "markdown",
      "metadata": {
        "id": "sx29oEamSstr",
        "colab_type": "text"
      },
      "source": [
        "# El Famoso: \"Hola Mundo!\""
      ]
    },
    {
      "cell_type": "code",
      "metadata": {
        "id": "a2txoAR9So-m",
        "colab_type": "code",
        "colab": {
          "base_uri": "https://localhost:8080/",
          "height": 34
        },
        "outputId": "193bd515-0422-4076-d448-39d16bae7b8c"
      },
      "source": [
        "print(\"Hola Mundo!\")"
      ],
      "execution_count": 3,
      "outputs": [
        {
          "output_type": "stream",
          "text": [
            "Hola Mundo!\n"
          ],
          "name": "stdout"
        }
      ]
    },
    {
      "cell_type": "markdown",
      "metadata": {
        "id": "jiF6-L-gTJIJ",
        "colab_type": "text"
      },
      "source": [
        "## Tu turno\n",
        "\n",
        "Ahora probá vos, en la siguiente celda escribí `print(\"Hola Mundo!\")` y dale al botón de \"Play\""
      ]
    },
    {
      "cell_type": "code",
      "metadata": {
        "id": "_8ab0dmKTWw_",
        "colab_type": "code",
        "colab": {}
      },
      "source": [
        ""
      ],
      "execution_count": 0,
      "outputs": []
    }
  ]
}