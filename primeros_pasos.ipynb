{
  "nbformat": 4,
  "nbformat_minor": 0,
  "metadata": {
    "colab": {
      "name": "primeros_pasos.ipynb",
      "provenance": []
    },
    "kernelspec": {
      "name": "python3",
      "display_name": "Python 3"
    }
  },
  "cells": [
    {
      "cell_type": "markdown",
      "metadata": {
        "id": "6xy0w-_oWT2k",
        "colab_type": "text"
      },
      "source": [
        "# Primeros Pasos\n",
        "\n",
        "## Funciones\n",
        "\n",
        "Una **función** es un conjunto de instrucciones que están asociados a un *nombre*, acepta (o no) *argumentos* y devuelve un *valor* (o realiza una acción o procedimiento).\n",
        "\n",
        "En el ejemplo anterior, vimos cómo llamamos a la función `print` y le pasamos como argumento el texto: `Hola Mundo!` por eso nos mostró en pantalla ese texto."
      ]
    },
    {
      "cell_type": "code",
      "metadata": {
        "id": "hdSQjRtSX8ct",
        "colab_type": "code",
        "colab": {
          "base_uri": "https://localhost:8080/",
          "height": 34
        },
        "outputId": "d12f127a-ed1e-4a48-f253-3f891125627a"
      },
      "source": [
        "print(\"Hola Mundo!\")"
      ],
      "execution_count": 1,
      "outputs": [
        {
          "output_type": "stream",
          "text": [
            "Hola Mundo!\n"
          ],
          "name": "stdout"
        }
      ]
    },
    {
      "cell_type": "code",
      "metadata": {
        "id": "VtRQTH6XYFUE",
        "colab_type": "code",
        "colab": {
          "base_uri": "https://localhost:8080/",
          "height": 34
        },
        "outputId": "402ef9dc-52ac-4886-ef9c-5d3437c65c45"
      },
      "source": [
        "print(\"Qué bueno que está Python y el #DataSchool\")"
      ],
      "execution_count": 2,
      "outputs": [
        {
          "output_type": "stream",
          "text": [
            "Qué bueno que está Python y el #DataSchool\n"
          ],
          "name": "stdout"
        }
      ]
    },
    {
      "cell_type": "markdown",
      "metadata": {
        "id": "pL9wXnVaYMyn",
        "colab_type": "text"
      },
      "source": [
        "### Ahora experimentá un poco con la función `print`"
      ]
    },
    {
      "cell_type": "code",
      "metadata": {
        "id": "hnLb4tO1YTAg",
        "colab_type": "code",
        "colab": {}
      },
      "source": [
        ""
      ],
      "execution_count": 0,
      "outputs": []
    },
    {
      "cell_type": "markdown",
      "metadata": {
        "id": "BrZNQvbyYT3k",
        "colab_type": "text"
      },
      "source": [
        "## Variables\n",
        "\n",
        "Una **variable** es un \"espacio de memoria\" que nos sirve para guardar un *valor*. En Python, para definir una **variable** lo que tenemos que hacer es ponerle un *nombre*, y asignarle un *valor*. \n",
        "\n",
        "Por ejemplo, creemos una variable que se llame `x` y guardemos en ella el valor `10`."
      ]
    },
    {
      "cell_type": "code",
      "metadata": {
        "id": "gucDuM7iY7Cc",
        "colab_type": "code",
        "colab": {}
      },
      "source": [
        "x = 10"
      ],
      "execution_count": 0,
      "outputs": []
    },
    {
      "cell_type": "markdown",
      "metadata": {
        "id": "AJozSBNTY_sE",
        "colab_type": "text"
      },
      "source": [
        "Notemos que luego de ejecutar la instrucción `x = 10`, no tenemos ninguna devolución. Y que para asignar el valor a la variable utilizamos el **operador de asignación** que es el signo `=`.\n",
        "\n",
        "Si queremos ver el valor que tiene asignada la variable `x`, sólo debemos escribir `x` y darle \"play\" para que ejecute."
      ]
    },
    {
      "cell_type": "code",
      "metadata": {
        "id": "E0NC4y5ZaASO",
        "colab_type": "code",
        "colab": {
          "base_uri": "https://localhost:8080/",
          "height": 34
        },
        "outputId": "22314235-96a7-4f44-c051-eb931b8c2d86"
      },
      "source": [
        "x"
      ],
      "execution_count": 5,
      "outputs": [
        {
          "output_type": "execute_result",
          "data": {
            "text/plain": [
              "10"
            ]
          },
          "metadata": {
            "tags": []
          },
          "execution_count": 5
        }
      ]
    },
    {
      "cell_type": "markdown",
      "metadata": {
        "id": "cc1eeEo1aCIS",
        "colab_type": "text"
      },
      "source": [
        "Las variables en Python pueden guardar cualquier cosa válida en Python."
      ]
    },
    {
      "cell_type": "markdown",
      "metadata": {
        "id": "9QZbKpddafR6",
        "colab_type": "text"
      },
      "source": [
        "## Expresiones\n",
        "\n",
        "Son conjuntos de símbolos que el intérprete de Python puede evaluar para obtener un **valor**.\n"
      ]
    },
    {
      "cell_type": "code",
      "metadata": {
        "id": "Vk9Qv0rkcFfl",
        "colab_type": "code",
        "colab": {
          "base_uri": "https://localhost:8080/",
          "height": 34
        },
        "outputId": "0aa3b825-9bed-4d61-9766-cf981dc2f2ac"
      },
      "source": [
        "3 + 4"
      ],
      "execution_count": 6,
      "outputs": [
        {
          "output_type": "execute_result",
          "data": {
            "text/plain": [
              "7"
            ]
          },
          "metadata": {
            "tags": []
          },
          "execution_count": 6
        }
      ]
    },
    {
      "cell_type": "code",
      "metadata": {
        "id": "1AWrrzQAcKJD",
        "colab_type": "code",
        "colab": {
          "base_uri": "https://localhost:8080/",
          "height": 34
        },
        "outputId": "fc26273c-449b-49f0-a20a-f2c0b7ebd125"
      },
      "source": [
        "5 - 2"
      ],
      "execution_count": 7,
      "outputs": [
        {
          "output_type": "execute_result",
          "data": {
            "text/plain": [
              "3"
            ]
          },
          "metadata": {
            "tags": []
          },
          "execution_count": 7
        }
      ]
    },
    {
      "cell_type": "code",
      "metadata": {
        "id": "muhqWqTgceS4",
        "colab_type": "code",
        "colab": {
          "base_uri": "https://localhost:8080/",
          "height": 34
        },
        "outputId": "66c79981-3eeb-44b2-b229-b16cc7a6647a"
      },
      "source": [
        "\"#DataSchool es una gran experiencia!\""
      ],
      "execution_count": 8,
      "outputs": [
        {
          "output_type": "execute_result",
          "data": {
            "text/plain": [
              "'#DataSchool es una gran experiencia!'"
            ]
          },
          "metadata": {
            "tags": []
          },
          "execution_count": 8
        }
      ]
    },
    {
      "cell_type": "markdown",
      "metadata": {
        "id": "gLbjVjrDcVv7",
        "colab_type": "text"
      },
      "source": [
        "## Funciones, Variables y Expresiones\n",
        "\n",
        "Todo esto se puede combinar, por ejemplo, podemos usar una expresión que guardamos en una variable y usamos la función `print` para mostrar el resultado."
      ]
    },
    {
      "cell_type": "code",
      "metadata": {
        "id": "MN94rjT7cxzo",
        "colab_type": "code",
        "colab": {
          "base_uri": "https://localhost:8080/",
          "height": 34
        },
        "outputId": "7fcdbc2e-38d0-4ea9-802e-f407bd35de9b"
      },
      "source": [
        "x = 18 + 25\n",
        "print(x)"
      ],
      "execution_count": 9,
      "outputs": [
        {
          "output_type": "stream",
          "text": [
            "43\n"
          ],
          "name": "stdout"
        }
      ]
    },
    {
      "cell_type": "markdown",
      "metadata": {
        "id": "qWpIpaUvc4rC",
        "colab_type": "text"
      },
      "source": [
        "## Animate y probá combinando lo que recién aprendiste..."
      ]
    },
    {
      "cell_type": "code",
      "metadata": {
        "id": "rbS0rhlZc4JO",
        "colab_type": "code",
        "colab": {}
      },
      "source": [
        ""
      ],
      "execution_count": 0,
      "outputs": []
    }
  ]
}