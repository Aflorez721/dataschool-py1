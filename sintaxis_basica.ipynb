{
  "nbformat": 4,
  "nbformat_minor": 0,
  "metadata": {
    "colab": {
      "name": "sintaxis_basica.ipynb",
      "provenance": []
    },
    "kernelspec": {
      "name": "python3",
      "display_name": "Python 3"
    }
  },
  "cells": [
    {
      "cell_type": "markdown",
      "metadata": {
        "id": "3jkK1mI9dq6a",
        "colab_type": "text"
      },
      "source": [
        "# Sintáxis Básica\n",
        "\n",
        "Las variables y funciones pueden llamarse con cualquier puede ser cualquier combinación alfanumérica que debe cumplir con las siguientes reglas:\n",
        "- puede usarse cualquier letra de la `a` a la `z`, minúscula o mayúscula y cualquier combinación de dígitos del `0` al `9`\n",
        "- no puede empezar con un número\n",
        "- puede contener el símbolo `_` (que se suele usar para separar palabras)\n",
        "- y no puede usarse ninguna palabra reservada\n",
        "\n",
        "## Palabras reservadas\n",
        "\n",
        "Python tiene 35 palabras reservadas que son parte de la sintáxis básica del lenguaje y no pueden usarse para nombrar funciones y/o variables."
      ]
    },
    {
      "cell_type": "code",
      "metadata": {
        "id": "bf1RKzvufnt4",
        "colab_type": "code",
        "colab": {
          "base_uri": "https://localhost:8080/",
          "height": 590
        },
        "outputId": "7612e668-c3de-4525-c380-42c136c95bb0"
      },
      "source": [
        "import keyword\n",
        "\n",
        "for keyword in keyword.kwlist:\n",
        "    print(keyword)"
      ],
      "execution_count": 2,
      "outputs": [
        {
          "output_type": "stream",
          "text": [
            "False\n",
            "None\n",
            "True\n",
            "and\n",
            "as\n",
            "assert\n",
            "break\n",
            "class\n",
            "continue\n",
            "def\n",
            "del\n",
            "elif\n",
            "else\n",
            "except\n",
            "finally\n",
            "for\n",
            "from\n",
            "global\n",
            "if\n",
            "import\n",
            "in\n",
            "is\n",
            "lambda\n",
            "nonlocal\n",
            "not\n",
            "or\n",
            "pass\n",
            "raise\n",
            "return\n",
            "try\n",
            "while\n",
            "with\n",
            "yield\n"
          ],
          "name": "stdout"
        }
      ]
    },
    {
      "cell_type": "markdown",
      "metadata": {
        "id": "h39Nple4f-QI",
        "colab_type": "text"
      },
      "source": [
        "Como verás, cuando escribimos alguna de las palabras reservadas el intérprete nos ayuda y nos la marca con un color especial."
      ]
    },
    {
      "cell_type": "markdown",
      "metadata": {
        "id": "1McrgELigNaU",
        "colab_type": "text"
      },
      "source": [
        "## Bloques de código\n",
        "\n",
        "Algunas sentencias deben escribirse con un bloque de código, es decir, varias sentencias que sirven para obtener uno o más valores. Los bloques de código en Python están determinados por la *indentación* y po rlo general se usan 4 espacios.\n",
        "\n",
        "En otros lenguajes se utilizan símbolos como las `{}` para determinar qué sentencias están dentro de cada bloque. \n",
        "\n",
        "## Comentarios\n",
        "\n",
        "Si anteponemos un `#` a una sentencia el intérprete omitirá la ejecución de esa línea. Por lo general se dejan comentarios en le código para ayudar a que sea más fácil de entender.\n",
        "\n",
        "**Leemos más código del que escribimos**"
      ]
    },
    {
      "cell_type": "code",
      "metadata": {
        "id": "IK5aej-Ahmbt",
        "colab_type": "code",
        "colab": {}
      },
      "source": [
        "# esto es un comentario y el intérprete no lo va a ejecutar"
      ],
      "execution_count": 0,
      "outputs": []
    },
    {
      "cell_type": "code",
      "metadata": {
        "id": "U8IHcphIhqcz",
        "colab_type": "code",
        "colab": {
          "base_uri": "https://localhost:8080/",
          "height": 132
        },
        "outputId": "a33ca7bc-58be-409f-e070-c82be6442cb0"
      },
      "source": [
        "esto es un comentario y el intérprete no lo va a ejecutar"
      ],
      "execution_count": 4,
      "outputs": [
        {
          "output_type": "error",
          "ename": "SyntaxError",
          "evalue": "ignored",
          "traceback": [
            "\u001b[0;36m  File \u001b[0;32m\"<ipython-input-4-8b1475ced730>\"\u001b[0;36m, line \u001b[0;32m1\u001b[0m\n\u001b[0;31m    esto es un comentario y el intérprete no lo va a ejecutar\u001b[0m\n\u001b[0m          ^\u001b[0m\n\u001b[0;31mSyntaxError\u001b[0m\u001b[0;31m:\u001b[0m invalid syntax\n"
          ]
        }
      ]
    },
    {
      "cell_type": "markdown",
      "metadata": {
        "id": "g0jtBDz1hwT9",
        "colab_type": "text"
      },
      "source": [
        "Al no anteponer el `#` en la segunda línea el intérprete nos tira `SyntaxError` (error de sintáxis) porque la sentencia que escribimos no es código Python válido.\n",
        "\n",
        "Ahora probá vos..."
      ]
    },
    {
      "cell_type": "code",
      "metadata": {
        "id": "Ydpqq4LXnNmk",
        "colab_type": "code",
        "colab": {}
      },
      "source": [
        ""
      ],
      "execution_count": 0,
      "outputs": []
    }
  ]
}